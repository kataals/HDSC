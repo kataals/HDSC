{
 "cells": [
  {
   "cell_type": "code",
   "execution_count": 7,
   "id": "e8f49732",
   "metadata": {},
   "outputs": [],
   "source": [
    "import numpy as np\n",
    "import pandas as pd \n",
    "\n",
    "df = pd.read_csv('FoodBalanceSheets_E_Africa_NOFLAG.csv', encoding = \"latin-1\")"
   ]
  },
  {
   "cell_type": "code",
   "execution_count": 8,
   "id": "155e82bb",
   "metadata": {
    "scrolled": true
   },
   "outputs": [
    {
     "data": {
      "text/plain": [
       "Area Code          0\n",
       "Area               0\n",
       "Item Code          0\n",
       "Item               0\n",
       "Element Code       0\n",
       "Element            0\n",
       "Unit               0\n",
       "Y2014           1589\n",
       "Y2015           1548\n",
       "Y2016           1535\n",
       "Y2017           1506\n",
       "Y2018           1436\n",
       "dtype: int64"
      ]
     },
     "execution_count": 8,
     "metadata": {},
     "output_type": "execute_result"
    }
   ],
   "source": [
    "#check for missing data\n",
    "df.isnull().sum()"
   ]
  },
  {
   "cell_type": "code",
   "execution_count": 13,
   "id": "8734e419",
   "metadata": {},
   "outputs": [
    {
     "data": {
      "text/plain": [
       "Area\n",
       "Algeria                        1313\n",
       "Angola                         1424\n",
       "Benin                          1285\n",
       "Botswana                       1378\n",
       "Burkina Faso                   1409\n",
       "Cabo Verde                     1260\n",
       "Cameroon                       1460\n",
       "Central African Republic       1344\n",
       "Chad                           1343\n",
       "Comoros                          45\n",
       "Congo                          1413\n",
       "Côte d'Ivoire                  1467\n",
       "Djibouti                       1095\n",
       "Egypt                          1488\n",
       "Eswatini                       1284\n",
       "Ethiopia                       1447\n",
       "Ethiopia PDR                     39\n",
       "Gabon                          1245\n",
       "Gambia                         1168\n",
       "Ghana                          1354\n",
       "Guinea                         1410\n",
       "Guinea-Bissau                  1128\n",
       "Kenya                          1560\n",
       "Lesotho                        1150\n",
       "Liberia                        1206\n",
       "Madagascar                     1439\n",
       "Malawi                         1447\n",
       "Mali                           1293\n",
       "Mauritania                     1195\n",
       "Mauritius                      1378\n",
       "Morocco                        1393\n",
       "Mozambique                     1427\n",
       "Namibia                        1283\n",
       "Niger                          1403\n",
       "Nigeria                        1474\n",
       "Rwanda                         1426\n",
       "Sao Tome and Principe          1177\n",
       "Senegal                        1462\n",
       "Seychelles                       68\n",
       "Sierra Leone                   1242\n",
       "South Africa                   1399\n",
       "Sudan                          1316\n",
       "Sudan (former)                   53\n",
       "Togo                           1294\n",
       "Tunisia                        1338\n",
       "Uganda                         1458\n",
       "United Republic of Tanzania    1419\n",
       "Zambia                         1451\n",
       "Zimbabwe                       1393\n",
       "Name: Area, dtype: int64"
      ]
     },
     "execution_count": 13,
     "metadata": {},
     "output_type": "execute_result"
    }
   ],
   "source": [
    "#use groupby to count the sum of each unique value in the Y2014 column\n",
    "df.groupby('Area')['Area'].count()"
   ]
  },
  {
   "cell_type": "code",
   "execution_count": 12,
   "id": "88a9ed75",
   "metadata": {},
   "outputs": [
    {
     "name": "stdout",
     "output_type": "stream",
     "text": [
      "       Area Code      Area  Item Code           Item  Element Code  \\\n",
      "0              4   Algeria       2501     Population           511   \n",
      "1              4   Algeria       2501     Population          5301   \n",
      "2              4   Algeria       2901    Grand Total           664   \n",
      "3              4   Algeria       2901    Grand Total           674   \n",
      "4              4   Algeria       2901    Grand Total           684   \n",
      "...          ...       ...        ...            ...           ...   \n",
      "60938        181  Zimbabwe       2899  Miscellaneous          5142   \n",
      "60939        181  Zimbabwe       2899  Miscellaneous           645   \n",
      "60940        181  Zimbabwe       2899  Miscellaneous           664   \n",
      "60941        181  Zimbabwe       2899  Miscellaneous           674   \n",
      "60942        181  Zimbabwe       2899  Miscellaneous           684   \n",
      "\n",
      "                                      Element             Unit     Y2014  \\\n",
      "0               Total Population - Both sexes     1000 persons  38924.00   \n",
      "1                    Domestic supply quantity      1000 tonnes      0.00   \n",
      "2               Food supply (kcal/capita/day)  kcal/capita/day   3377.00   \n",
      "3      Protein supply quantity (g/capita/day)     g/capita/day     94.90   \n",
      "4          Fat supply quantity (g/capita/day)     g/capita/day     80.06   \n",
      "...                                       ...              ...       ...   \n",
      "60938                                    Food      1000 tonnes     42.00   \n",
      "60939     Food supply quantity (kg/capita/yr)               kg      3.06   \n",
      "60940           Food supply (kcal/capita/day)  kcal/capita/day      3.00   \n",
      "60941  Protein supply quantity (g/capita/day)     g/capita/day      0.10   \n",
      "60942      Fat supply quantity (g/capita/day)     g/capita/day      0.04   \n",
      "\n",
      "          Y2015     Y2016     Y2017     Y2018  \n",
      "0      39728.00  40551.00  41389.00  42228.00  \n",
      "1          0.00      0.00      0.00      0.00  \n",
      "2       3379.00   3372.00   3341.00   3322.00  \n",
      "3         94.35     94.72     92.82     91.83  \n",
      "4         79.36     77.40     80.19     77.28  \n",
      "...         ...       ...       ...       ...  \n",
      "60938     46.00     33.00     19.00     16.00  \n",
      "60939      3.33      2.35      1.33      1.08  \n",
      "60940      4.00      3.00      1.00      1.00  \n",
      "60941      0.11      0.08      0.04      0.04  \n",
      "60942      0.05      0.03      0.02      0.01  \n",
      "\n",
      "[60943 rows x 12 columns]\n"
     ]
    }
   ],
   "source": [
    "print(df)"
   ]
  },
  {
   "cell_type": "code",
   "execution_count": 14,
   "id": "bab3444f",
   "metadata": {},
   "outputs": [
    {
     "ename": "TypeError",
     "evalue": "'tuple' object does not support item assignment",
     "output_type": "error",
     "traceback": [
      "\u001b[0;31m---------------------------------------------------------------------------\u001b[0m",
      "\u001b[0;31mTypeError\u001b[0m                                 Traceback (most recent call last)",
      "\u001b[0;32m/var/folders/bn/kb4sx0z56b3chdx6fqx3z37w0000gn/T/ipykernel_82692/3506354595.py\u001b[0m in \u001b[0;36m<module>\u001b[0;34m\u001b[0m\n\u001b[1;32m      1\u001b[0m \u001b[0mmy_tuppy\u001b[0m \u001b[0;34m=\u001b[0m \u001b[0;34m(\u001b[0m\u001b[0;36m1\u001b[0m\u001b[0;34m,\u001b[0m\u001b[0;36m2\u001b[0m\u001b[0;34m,\u001b[0m\u001b[0;36m5\u001b[0m\u001b[0;34m,\u001b[0m\u001b[0;36m8\u001b[0m\u001b[0;34m)\u001b[0m\u001b[0;34m\u001b[0m\u001b[0;34m\u001b[0m\u001b[0m\n\u001b[0;32m----> 2\u001b[0;31m \u001b[0mmy_tuppy\u001b[0m\u001b[0;34m[\u001b[0m\u001b[0;36m2\u001b[0m\u001b[0;34m]\u001b[0m \u001b[0;34m=\u001b[0m \u001b[0;36m6\u001b[0m\u001b[0;34m\u001b[0m\u001b[0;34m\u001b[0m\u001b[0m\n\u001b[0m",
      "\u001b[0;31mTypeError\u001b[0m: 'tuple' object does not support item assignment"
     ]
    }
   ],
   "source": [
    "my_tuppy = (1,2,5,8)\n",
    "my_tuppy[2] = 6"
   ]
  },
  {
   "cell_type": "code",
   "execution_count": 15,
   "id": "41d9a980",
   "metadata": {},
   "outputs": [
    {
     "data": {
      "text/plain": [
       "Element\n",
       "Domestic supply quantity                  5295\n",
       "Export Quantity                           4403\n",
       "Fat supply quantity (g/capita/day)        5023\n",
       "Feed                                      1319\n",
       "Food                                      4941\n",
       "Food supply (kcal/capita/day)             5014\n",
       "Food supply quantity (kg/capita/yr)       4905\n",
       "Import Quantity                           5139\n",
       "Losses                                    2009\n",
       "Other uses (non-food)                     1732\n",
       "Processing                                2010\n",
       "Production                                3881\n",
       "Protein supply quantity (g/capita/day)    5023\n",
       "Residuals                                 4655\n",
       "Seed                                       762\n",
       "Stock Variation                           4232\n",
       "Total Population - Both sexes               45\n",
       "Tourist consumption                        555\n",
       "Name: Element, dtype: int64"
      ]
     },
     "execution_count": 15,
     "metadata": {},
     "output_type": "execute_result"
    }
   ],
   "source": [
    "df.groupby('Element')['Element'].count()"
   ]
  },
  {
   "cell_type": "code",
   "execution_count": 19,
   "id": "09c2733e",
   "metadata": {},
   "outputs": [
    {
     "data": {
      "text/plain": [
       "<bound method DataFrame.count of        Area Code      Area  Item Code                      Item  Element Code  \\\n",
       "13             4   Algeria       2905  Cereals - Excluding Beer          5072   \n",
       "29             4   Algeria       2511        Wheat and products          5072   \n",
       "45             4   Algeria       2805         Rice and products          5072   \n",
       "60             4   Algeria       2513       Barley and products          5072   \n",
       "75             4   Algeria       2514        Maize and products          5072   \n",
       "...          ...       ...        ...                       ...           ...   \n",
       "60842        181  Zimbabwe       2763              Pelagic Fish          5072   \n",
       "60853        181  Zimbabwe       2764        Marine Fish, Other          5072   \n",
       "60914        181  Zimbabwe       2928             Miscellaneous          5072   \n",
       "60924        181  Zimbabwe       2680               Infant food          5072   \n",
       "60934        181  Zimbabwe       2899             Miscellaneous          5072   \n",
       "\n",
       "               Element         Unit  Y2014   Y2015  Y2016  Y2017   Y2018  \n",
       "13     Stock Variation  1000 tonnes  684.0  1663.0  905.0  705.0  2226.0  \n",
       "29     Stock Variation  1000 tonnes  487.0  1401.0  731.0  546.0  1927.0  \n",
       "45     Stock Variation  1000 tonnes    8.0    -2.0   -4.0   17.0    37.0  \n",
       "60     Stock Variation  1000 tonnes   42.0    82.0   55.0   16.0   134.0  \n",
       "75     Stock Variation  1000 tonnes  146.0   177.0  122.0  127.0   124.0  \n",
       "...                ...          ...    ...     ...    ...    ...     ...  \n",
       "60842  Stock Variation  1000 tonnes    0.0     0.0    0.0    0.0     0.0  \n",
       "60853  Stock Variation  1000 tonnes    0.0     0.0    0.0    0.0     0.0  \n",
       "60914  Stock Variation  1000 tonnes    0.0     0.0    0.0   -4.0     0.0  \n",
       "60924  Stock Variation  1000 tonnes    0.0     0.0    0.0    0.0     0.0  \n",
       "60934  Stock Variation  1000 tonnes    0.0     0.0    0.0   -4.0     0.0  \n",
       "\n",
       "[4232 rows x 12 columns]>"
      ]
     },
     "execution_count": 19,
     "metadata": {},
     "output_type": "execute_result"
    }
   ],
   "source": [
    "df.groupby('Element').get_group('Stock Variation').count"
   ]
  },
  {
   "cell_type": "code",
   "execution_count": 24,
   "id": "d8397abf",
   "metadata": {},
   "outputs": [
    {
     "data": {
      "text/plain": [
       "<bound method NDFrame._add_numeric_operations.<locals>.sum of        Area Code      Area  Item Code                      Item  Element Code  \\\n",
       "19             4   Algeria       2905  Cereals - Excluding Beer          5131   \n",
       "35             4   Algeria       2511        Wheat and products          5131   \n",
       "51             4   Algeria       2805         Rice and products          5131   \n",
       "66             4   Algeria       2513       Barley and products          5131   \n",
       "81             4   Algeria       2514        Maize and products          5131   \n",
       "...          ...       ...        ...                       ...           ...   \n",
       "60694        181  Zimbabwe       2946               Animal fats          5131   \n",
       "60717        181  Zimbabwe       2743                     Cream          5131   \n",
       "60730        181  Zimbabwe       2737        Fats, Animals, Raw          5131   \n",
       "60789        181  Zimbabwe       2948   Milk - Excluding Butter          5131   \n",
       "60803        181  Zimbabwe       2848   Milk - Excluding Butter          5131   \n",
       "\n",
       "          Element         Unit  Y2014  Y2015  Y2016  Y2017  Y2018  \n",
       "19     Processing  1000 tonnes   35.0   38.0   37.0   33.0   44.0  \n",
       "35     Processing  1000 tonnes    0.0    0.0    0.0    0.0    0.0  \n",
       "51     Processing  1000 tonnes    0.0    0.0    0.0    0.0    0.0  \n",
       "66     Processing  1000 tonnes   35.0   38.0   37.0   33.0   44.0  \n",
       "81     Processing  1000 tonnes    0.0    0.0    0.0    0.0    0.0  \n",
       "...           ...          ...    ...    ...    ...    ...    ...  \n",
       "60694  Processing  1000 tonnes    0.0    0.0    0.0    0.0    0.0  \n",
       "60717  Processing  1000 tonnes    0.0    0.0    0.0    0.0    0.0  \n",
       "60730  Processing  1000 tonnes    0.0    0.0    0.0    0.0    0.0  \n",
       "60789  Processing  1000 tonnes   59.0   59.0   58.0   56.0   57.0  \n",
       "60803  Processing  1000 tonnes   59.0   59.0   58.0   56.0   57.0  \n",
       "\n",
       "[2010 rows x 12 columns]>"
      ]
     },
     "execution_count": 24,
     "metadata": {},
     "output_type": "execute_result"
    }
   ],
   "source": [
    "df.groupby('Element').get_group('Processing').sum"
   ]
  },
  {
   "cell_type": "code",
   "execution_count": 44,
   "id": "ab4a1620",
   "metadata": {},
   "outputs": [
    {
     "data": {
      "text/plain": [
       "Y2017      Area                       \n",
       "-1582.0    Egypt                           -3164.0\n",
       "-1200.0    Mozambique                      -1200.0\n",
       "-1159.0    Mozambique                      -1159.0\n",
       "-865.0     United Republic of Tanzania      -865.0\n",
       "-860.0     United Republic of Tanzania      -860.0\n",
       "                                            ...   \n",
       " 96443.0   Egypt                           96443.0\n",
       " 106400.0  Ethiopia                       106400.0\n",
       " 112625.0  Nigeria                        112625.0\n",
       " 117702.0  Nigeria                        117702.0\n",
       " 190873.0  Nigeria                        190873.0\n",
       "Name: Y2017, Length: 14773, dtype: float64"
      ]
     },
     "execution_count": 44,
     "metadata": {},
     "output_type": "execute_result"
    }
   ],
   "source": [
    "df.groupby(['Y2017','Area'])['Y2017'].sum()"
   ]
  },
  {
   "cell_type": "code",
   "execution_count": 45,
   "id": "0242cbf8",
   "metadata": {},
   "outputs": [],
   "source": [
    "array  = ([[94, 89, 63],\n",
    "\n",
    "             [93, 92, 48],\n",
    "\n",
    "             [92, 94, 56]])"
   ]
  },
  {
   "cell_type": "code",
   "execution_count": 46,
   "id": "014c615f",
   "metadata": {},
   "outputs": [
    {
     "data": {
      "text/plain": [
       "140.917764860268"
      ]
     },
     "execution_count": 46,
     "metadata": {},
     "output_type": "execute_result"
    }
   ],
   "source": [
    "df['Y2017'].mean()"
   ]
  },
  {
   "cell_type": "code",
   "execution_count": 47,
   "id": "0cb3f8fc",
   "metadata": {},
   "outputs": [],
   "source": [
    "S = [['him', 'sell'], [90, 28, 43]]"
   ]
  },
  {
   "cell_type": "code",
   "execution_count": 48,
   "id": "16221c38",
   "metadata": {},
   "outputs": [
    {
     "data": {
      "text/plain": [
       "'e'"
      ]
     },
     "execution_count": 48,
     "metadata": {},
     "output_type": "execute_result"
    }
   ],
   "source": [
    "S[0][1][1]"
   ]
  },
  {
   "cell_type": "code",
   "execution_count": null,
   "id": "be763a43",
   "metadata": {},
   "outputs": [],
   "source": []
  }
 ],
 "metadata": {
  "kernelspec": {
   "display_name": "Python 3 (ipykernel)",
   "language": "python",
   "name": "python3"
  },
  "language_info": {
   "codemirror_mode": {
    "name": "ipython",
    "version": 3
   },
   "file_extension": ".py",
   "mimetype": "text/x-python",
   "name": "python",
   "nbconvert_exporter": "python",
   "pygments_lexer": "ipython3",
   "version": "3.9.13"
  }
 },
 "nbformat": 4,
 "nbformat_minor": 5
}
